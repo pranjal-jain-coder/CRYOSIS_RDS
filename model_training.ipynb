{
 "cells": [
  {
   "cell_type": "code",
   "execution_count": null,
   "metadata": {
    "_cell_guid": "b1076dfc-b9ad-4769-8c92-a6c4dae69d19",
    "_uuid": "8f2839f25d086af736a60e9eeb907d3b93b6e0e5",
    "execution": {
     "iopub.execute_input": "2024-11-17T05:51:50.832624Z",
     "iopub.status.busy": "2024-11-17T05:51:50.831738Z",
     "iopub.status.idle": "2024-11-17T05:52:13.811349Z",
     "shell.execute_reply": "2024-11-17T05:52:13.809846Z",
     "shell.execute_reply.started": "2024-11-17T05:51:50.832584Z"
    },
    "trusted": true
   },
   "outputs": [],
   "source": [
    "!pip install librosa\n",
    "!pip install archisound"
   ]
  },
  {
   "cell_type": "code",
   "execution_count": null,
   "metadata": {
    "execution": {
     "iopub.execute_input": "2024-11-17T05:52:13.814800Z",
     "iopub.status.busy": "2024-11-17T05:52:13.814315Z",
     "iopub.status.idle": "2024-11-17T05:52:13.821261Z",
     "shell.execute_reply": "2024-11-17T05:52:13.820337Z",
     "shell.execute_reply.started": "2024-11-17T05:52:13.814734Z"
    },
    "trusted": true
   },
   "outputs": [],
   "source": [
    "import numpy as np\n",
    "from torch.utils.data import Dataset\n",
    "from torch.utils.data import random_split, DataLoader\n",
    "import pandas as pd\n",
    "import os\n",
    "import librosa\n",
    "import random\n",
    "import torch\n",
    "from torch.utils.data import DataLoader\n",
    "import torch\n",
    "from torch import nn\n",
    "import torch.optim.lr_scheduler as lr_scheduler"
   ]
  },
  {
   "cell_type": "code",
   "execution_count": null,
   "metadata": {
    "execution": {
     "iopub.execute_input": "2024-11-17T05:52:13.822671Z",
     "iopub.status.busy": "2024-11-17T05:52:13.822391Z",
     "iopub.status.idle": "2024-11-17T05:52:13.831701Z",
     "shell.execute_reply": "2024-11-17T05:52:13.830820Z",
     "shell.execute_reply.started": "2024-11-17T05:52:13.822641Z"
    },
    "trusted": true
   },
   "outputs": [],
   "source": [
    "import warnings\n",
    "warnings.filterwarnings(\"ignore\")"
   ]
  },
  {
   "cell_type": "code",
   "execution_count": null,
   "metadata": {
    "execution": {
     "iopub.execute_input": "2024-11-17T05:52:13.833393Z",
     "iopub.status.busy": "2024-11-17T05:52:13.833043Z",
     "iopub.status.idle": "2024-11-17T05:52:13.847619Z",
     "shell.execute_reply": "2024-11-17T05:52:13.846798Z",
     "shell.execute_reply.started": "2024-11-17T05:52:13.833358Z"
    },
    "trusted": true
   },
   "outputs": [],
   "source": [
    "class RDSData(Dataset):\n",
    "    def __init__(self, data_dir, csv_link, transforms=[]):\n",
    "        self.data_dir = data_dir\n",
    "        self.labels = pd.read_csv(csv_link, index_col=0)\n",
    "        self.transforms = transforms\n",
    "        self.files = sorted(os.listdir(self.data_dir))\n",
    "    \n",
    "    def __len__(self):\n",
    "        return len(os.listdir(self.data_dir))\n",
    "    \n",
    "    def __getitem__(self, idx):\n",
    "        file_name = self.files[idx]\n",
    "        label = 0 if file_name[0] in ['x'] else 1\n",
    "        if label == 1:\n",
    "            ipd = int(file_name.split('_')[0])\n",
    "            if ipd in self.labels['diagnosis']:\n",
    "                if self.labels['diagnosis'][int(file_name.split('_')[0])] != 'RD':\n",
    "                    label = 0\n",
    "            else:\n",
    "                print(\"RECORD not found\", file_name)\n",
    "        y, sr = librosa.load(self.data_dir+file_name, sr=48000, mono=True)\n",
    "        if len(y) > 13*sr:\n",
    "            start = random.randint(1, 7)*sr\n",
    "            end = start + 5*sr\n",
    "            y = y[start:end]\n",
    "        else:\n",
    "            y = np.pad(y, (5 * sr), mode='constant')\n",
    "            y=y[:5*sr]\n",
    "\n",
    "        beep_freq, duration = random.randint(750, 1000), random.random()\n",
    "        amplitude = random.random()/2 + 0.25\n",
    "        if random.random() < 0.5:\n",
    "            t = np.linspace(0, duration, int(sr * duration))\n",
    "    \n",
    "            # Create beep signal\n",
    "            beep = amplitude * np.sin(2 * np.pi * beep_freq * t)\n",
    "            \n",
    "            # Pad beep with zeros to match audio length\n",
    "            if len(beep) < len(y):\n",
    "                beep = np.pad(beep, (0, len(y) - len(beep)))\n",
    "            else:\n",
    "                beep = beep[:len(y)]\n",
    "            y += beep\n",
    "        if y.ndim == 1:  # If mono, convert to stereo\n",
    "            y = np.stack((y, y), axis=-1)\n",
    "        # print(y.shape)\n",
    "        z = torch.from_numpy(y).float()\n",
    "        \n",
    "        return z, label"
   ]
  },
  {
   "cell_type": "code",
   "execution_count": null,
   "metadata": {
    "execution": {
     "iopub.execute_input": "2024-11-17T05:52:13.851019Z",
     "iopub.status.busy": "2024-11-17T05:52:13.850581Z",
     "iopub.status.idle": "2024-11-17T05:52:14.932294Z",
     "shell.execute_reply": "2024-11-17T05:52:14.931447Z",
     "shell.execute_reply.started": "2024-11-17T05:52:13.850977Z"
    },
    "trusted": true
   },
   "outputs": [],
   "source": [
    "csv_link = \"https://docs.google.com/spreadsheets/d/e/2PACX-1vQFKYn0AY8-7A3xS9KPQud5g3sc0OGjccuft_af3bfJ7ApLK4PxqO-srPaMl3ZAyg/pub?gid=508649410&single=true&output=csv\"\n",
    "data_dir = \"/kaggle/input/rds-data/\"\n",
    "\n",
    "dataset = RDSData(data_dir, csv_link)\n",
    "train_size = int(0.80 * len(dataset))\n",
    "test_size = len(dataset) - train_size\n",
    "train_dataset, test_dataset = random_split(dataset, [train_size, test_size])"
   ]
  },
  {
   "cell_type": "code",
   "execution_count": null,
   "metadata": {
    "execution": {
     "iopub.execute_input": "2024-11-17T05:52:14.933878Z",
     "iopub.status.busy": "2024-11-17T05:52:14.933480Z",
     "iopub.status.idle": "2024-11-17T05:52:15.116325Z",
     "shell.execute_reply": "2024-11-17T05:52:15.115344Z",
     "shell.execute_reply.started": "2024-11-17T05:52:14.933833Z"
    },
    "trusted": true
   },
   "outputs": [],
   "source": [
    "print(dataset[0])"
   ]
  },
  {
   "cell_type": "code",
   "execution_count": null,
   "metadata": {
    "execution": {
     "iopub.execute_input": "2024-11-17T05:52:15.117902Z",
     "iopub.status.busy": "2024-11-17T05:52:15.117543Z",
     "iopub.status.idle": "2024-11-17T05:52:15.124405Z",
     "shell.execute_reply": "2024-11-17T05:52:15.123684Z",
     "shell.execute_reply.started": "2024-11-17T05:52:15.117867Z"
    },
    "trusted": true
   },
   "outputs": [],
   "source": [
    "train_dl = DataLoader(train_dataset, batch_size=32, shuffle=True)\n",
    "test_dl = DataLoader(test_dataset, batch_size=32, shuffle=True)"
   ]
  },
  {
   "cell_type": "code",
   "execution_count": null,
   "metadata": {
    "execution": {
     "iopub.execute_input": "2024-11-17T05:52:15.127919Z",
     "iopub.status.busy": "2024-11-17T05:52:15.127367Z",
     "iopub.status.idle": "2024-11-17T05:52:16.505259Z",
     "shell.execute_reply": "2024-11-17T05:52:16.504416Z",
     "shell.execute_reply.started": "2024-11-17T05:52:15.127885Z"
    },
    "trusted": true
   },
   "outputs": [],
   "source": [
    "from archisound import ArchiSound\n",
    "\n",
    "autoencoder = ArchiSound.from_pretrained(\"dmae1d-ATC64-v2\")"
   ]
  },
  {
   "cell_type": "code",
   "execution_count": null,
   "metadata": {
    "execution": {
     "iopub.execute_input": "2024-11-17T06:10:28.804879Z",
     "iopub.status.busy": "2024-11-17T06:10:28.803845Z",
     "iopub.status.idle": "2024-11-17T06:10:28.812981Z",
     "shell.execute_reply": "2024-11-17T06:10:28.811252Z",
     "shell.execute_reply.started": "2024-11-17T06:10:28.804836Z"
    },
    "trusted": true
   },
   "outputs": [],
   "source": [
    "class Classifier(nn.Module):\n",
    "    def __init__(self, in_size):\n",
    "        super(Classifier, self).__init__()\n",
    "        self.Custom = nn.Sequential(\n",
    "            nn.Flatten(),\n",
    "            nn.Linear(input_size, 1024),\n",
    "            nn.ReLU(),\n",
    "            nn.Linear(1024, 512),\n",
    "            nn.ReLU(),\n",
    "            nn.Linear(512, 256),\n",
    "            nn.ReLU(),\n",
    "            nn.Linear(256, 128),\n",
    "            nn.ReLU(),\n",
    "            nn.Linear(128, 1),\n",
    "            nn.Sigmoid()\n",
    "        )\n",
    "    def forward(self, x):\n",
    "        x = self.Custom(x)\n",
    "        return x\n",
    "\n",
    "device = torch.device(\"cuda\" if torch.cuda.is_available() else \"cpu\")"
   ]
  },
  {
   "cell_type": "code",
   "execution_count": null,
   "metadata": {
    "execution": {
     "iopub.execute_input": "2024-11-17T06:10:29.000182Z",
     "iopub.status.busy": "2024-11-17T06:10:28.999711Z",
     "iopub.status.idle": "2024-11-17T06:10:29.113792Z",
     "shell.execute_reply": "2024-11-17T06:10:29.113003Z",
     "shell.execute_reply.started": "2024-11-17T06:10:29.000133Z"
    },
    "trusted": true
   },
   "outputs": [],
   "source": [
    "input_size = 7520\n",
    "model = Classifier(input_size)\n",
    "model.to(device)\n",
    "autoencoder = autoencoder.to(device)"
   ]
  },
  {
   "cell_type": "code",
   "execution_count": null,
   "metadata": {
    "execution": {
     "iopub.execute_input": "2024-11-17T06:10:29.134855Z",
     "iopub.status.busy": "2024-11-17T06:10:29.134303Z",
     "iopub.status.idle": "2024-11-17T06:10:29.139906Z",
     "shell.execute_reply": "2024-11-17T06:10:29.138964Z",
     "shell.execute_reply.started": "2024-11-17T06:10:29.134819Z"
    },
    "trusted": true
   },
   "outputs": [],
   "source": [
    "print(sum(p.numel() for p in model.parameters()))\n",
    "print(model)"
   ]
  },
  {
   "cell_type": "code",
   "execution_count": null,
   "metadata": {
    "execution": {
     "iopub.execute_input": "2024-11-17T06:10:29.252795Z",
     "iopub.status.busy": "2024-11-17T06:10:29.252048Z",
     "iopub.status.idle": "2024-11-17T06:10:29.259123Z",
     "shell.execute_reply": "2024-11-17T06:10:29.258090Z",
     "shell.execute_reply.started": "2024-11-17T06:10:29.252741Z"
    },
    "trusted": true
   },
   "outputs": [],
   "source": [
    "class DiceLoss(nn.Module):\n",
    "    def __init__(self, weight=None, size_average=True):\n",
    "        super(DiceLoss, self).__init__()\n",
    "\n",
    "    def forward(self, inputs, targets, smooth=1):\n",
    "        \n",
    "        #flatten label and prediction tensors\n",
    "        inputs = inputs.view(-1)\n",
    "        targets = targets.view(-1)\n",
    "        \n",
    "        intersection = (inputs * targets).sum()                            \n",
    "        dice = (2*intersection + smooth)/(inputs.sum() + targets.sum() + smooth)  \n",
    "        \n",
    "        return 1 - dice"
   ]
  },
  {
   "cell_type": "code",
   "execution_count": null,
   "metadata": {
    "execution": {
     "iopub.execute_input": "2024-11-17T06:10:29.423363Z",
     "iopub.status.busy": "2024-11-17T06:10:29.422967Z",
     "iopub.status.idle": "2024-11-17T06:13:40.324830Z",
     "shell.execute_reply": "2024-11-17T06:13:40.323840Z",
     "shell.execute_reply.started": "2024-11-17T06:10:29.423327Z"
    },
    "trusted": true
   },
   "outputs": [],
   "source": [
    "Dice=DiceLoss()\n",
    "BCE = nn.BCELoss()\n",
    "def criterion(x, y):\n",
    "    a = Dice(x, y)\n",
    "    b = BCE(x, y)\n",
    "    return 0.4*a + 0.6*b\n",
    "\n",
    "optimizer = torch.optim.Adam(model.parameters(), lr=0.0005)\n",
    "scheduler = lr_scheduler.LinearLR(optimizer, start_factor=1, end_factor=0.000001, total_iters=15)\n",
    "\n",
    "epochs = 15\n",
    "\n",
    "best = 0\n",
    "best_model = None\n",
    "for epoch in range(epochs):\n",
    "    total_loss = 0\n",
    "    correct_predictions = 0\n",
    "    total_samples = 0\n",
    "\n",
    "    for batch_data, batch_labels in train_dl:\n",
    "        batch_data = batch_data.to(device)\n",
    "        batch_labels = batch_labels.to(device).float().unsqueeze(1)  # Convert labels to float and shape [batch_size, 1]\n",
    "\n",
    "        # Encode the audio using the autoencoder\n",
    "        batch_data = batch_data.permute(0, 2, 1)\n",
    "        encoded_data = autoencoder.encode(batch_data)\n",
    "        print(encoded_data.shape)\n",
    "\n",
    "        optimizer.zero_grad()\n",
    "        outputs = model(encoded_data)\n",
    "        loss = criterion(outputs, batch_labels)\n",
    "        \n",
    "        loss.backward()\n",
    "        optimizer.step()\n",
    "\n",
    "        total_loss += loss.item()\n",
    "\n",
    "        # Convert outputs to binary predictions (0 or 1)\n",
    "        predicted = (outputs > 0.5).float()\n",
    "        correct_predictions += (predicted == batch_labels).sum().item()\n",
    "        total_samples += batch_labels.size(0)\n",
    "\n",
    "    # Calculate average loss and accuracy for the epoch\n",
    "    scheduler.step()\n",
    "    avg_loss = total_loss / len(train_dl)\n",
    "    accuracy = correct_predictions / total_samples\n",
    "    if accuracy >= best:\n",
    "        best = accuracy\n",
    "        best_model = model\n",
    "    print(\"---------------------------------------\\n\")\n",
    "    print(f\"Epoch [{epoch+1}/{epochs}], Loss: {avg_loss:.4f}, Accuracy: {accuracy:.4f}\")\n",
    "    print(\"\\n---------------------------------------\")"
   ]
  },
  {
   "cell_type": "code",
   "execution_count": null,
   "metadata": {
    "execution": {
     "iopub.execute_input": "2024-11-17T06:13:40.327556Z",
     "iopub.status.busy": "2024-11-17T06:13:40.327070Z",
     "iopub.status.idle": "2024-11-17T06:13:43.955261Z",
     "shell.execute_reply": "2024-11-17T06:13:43.954464Z",
     "shell.execute_reply.started": "2024-11-17T06:13:40.327511Z"
    },
    "trusted": true
   },
   "outputs": [],
   "source": [
    "# prompt: test the model and print accuracy, precision and recall\n",
    "\n",
    "# Evaluation loop\n",
    "true_labels = []\n",
    "predicted_labels = []\n",
    "model = best_model\n",
    "\n",
    "with torch.no_grad():\n",
    "    for batch_data, batch_labels in test_dl:\n",
    "        batch_data = batch_data.to(device)\n",
    "        batch_labels = batch_labels.to(device).float().unsqueeze(1)\n",
    "\n",
    "        batch_data = batch_data.permute(0, 2, 1)\n",
    "        encoded_data = autoencoder.encode(batch_data)\n",
    "        outputs = model(encoded_data)\n",
    "        x = list(map(float, outputs.cpu().numpy()))\n",
    "        for i in range(len(x)):\n",
    "            print(int(x[i]>0.5), list(batch_labels[i].cpu().numpy()))\n",
    "        predicted = (outputs > 0.5).float()\n",
    "\n",
    "        true_labels.extend(batch_labels.cpu().numpy().flatten())\n",
    "        predicted_labels.extend(predicted.cpu().numpy().flatten())\n",
    "\n",
    "\n",
    "from sklearn.metrics import accuracy_score, precision_score, recall_score\n",
    "\n",
    "accuracy = accuracy_score(true_labels, predicted_labels)\n",
    "precision = precision_score(true_labels, predicted_labels)\n",
    "recall = recall_score(true_labels, predicted_labels)\n",
    "fscore = 2 * (precision * recall) / (precision + recall)\n",
    "\n",
    "print(f\"Accuracy: {accuracy:.4f}\")\n",
    "print(f\"Precision: {precision:.4f}\")\n",
    "print(f\"Recall: {recall:.4f}\") \n",
    "print(f\"F-score: {fscore:.4f}\")"
   ]
  },
  {
   "cell_type": "code",
   "execution_count": null,
   "metadata": {
    "execution": {
     "iopub.execute_input": "2024-11-17T06:13:43.957281Z",
     "iopub.status.busy": "2024-11-17T06:13:43.956676Z",
     "iopub.status.idle": "2024-11-17T06:13:44.027791Z",
     "shell.execute_reply": "2024-11-17T06:13:44.026660Z",
     "shell.execute_reply.started": "2024-11-17T06:13:43.957229Z"
    },
    "trusted": true
   },
   "outputs": [],
   "source": [
    "torch.save(best_model.state_dict(), \"/kaggle/working/model.pt\")"
   ]
  },
  {
   "cell_type": "code",
   "execution_count": null,
   "metadata": {},
   "outputs": [],
   "source": []
  },
  {
   "cell_type": "code",
   "execution_count": null,
   "metadata": {},
   "outputs": [],
   "source": []
  }
 ],
 "metadata": {
  "kaggle": {
   "accelerator": "gpu",
   "dataSources": [
    {
     "datasetId": 6097057,
     "sourceId": 9921385,
     "sourceType": "datasetVersion"
    }
   ],
   "dockerImageVersionId": 30787,
   "isGpuEnabled": true,
   "isInternetEnabled": true,
   "language": "python",
   "sourceType": "notebook"
  },
  "kernelspec": {
   "display_name": "Python 3",
   "language": "python",
   "name": "python3"
  },
  "language_info": {
   "codemirror_mode": {
    "name": "ipython",
    "version": 3
   },
   "file_extension": ".py",
   "mimetype": "text/x-python",
   "name": "python",
   "nbconvert_exporter": "python",
   "pygments_lexer": "ipython3",
   "version": "3.10.14"
  }
 },
 "nbformat": 4,
 "nbformat_minor": 4
}
